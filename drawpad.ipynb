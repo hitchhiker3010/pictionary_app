{
  "nbformat": 4,
  "nbformat_minor": 0,
  "metadata": {
    "colab": {
      "name": "drawpad.ipynb",
      "provenance": [],
      "collapsed_sections": []
    },
    "kernelspec": {
      "name": "python3",
      "display_name": "Python 3"
    }
  },
  "cells": [
    {
      "cell_type": "code",
      "metadata": {
        "id": "Axpqdr96vK_3"
      },
      "source": [
        "import jupyter_drawing_pad as jd"
      ],
      "execution_count": null,
      "outputs": []
    },
    {
      "cell_type": "code",
      "metadata": {
        "id": "RbCHj8GevYG7"
      },
      "source": [
        "widget = jd.CustomBox()\n",
        "widget.drawing_pad"
      ],
      "execution_count": null,
      "outputs": []
    },
    {
      "cell_type": "code",
      "metadata": {
        "id": "iZ8KDHPhvlhU"
      },
      "source": [
        "import ipymaterialui as m"
      ],
      "execution_count": null,
      "outputs": []
    },
    {
      "cell_type": "code",
      "metadata": {
        "id": "5C92HE9zv8C9"
      },
      "source": [
        "statusb = m.Chip(label='-')\n",
        "count = 1\n",
        "def onclick(e, w, d):\n",
        "    global count\n",
        "    count += 1\n",
        "    statusb.label = f'{count}'\n",
        "    \n",
        "button1 = m.Button(color='primary', variant='contained', children='hoi')\n",
        "button1.on_event('onClick', onclick)\n",
        "m.List(children=[button1, statusb])"
      ],
      "execution_count": null,
      "outputs": []
    }
  ]
}