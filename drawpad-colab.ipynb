{
 "cells": [
  {
   "cell_type": "code",
   "execution_count": null,
   "metadata": {
    "id": "Axpqdr96vK_3"
   },
   "outputs": [],
   "source": [
    "import jupyter_drawing_pad as jd\n",
    "import ipymaterialui as m\n",
    "from matplotlib import lines\n",
    "import matplotlib.pyplot as plt\n",
    "import numpy as np\n",
    "import pandas as pd\n",
    "from fastai.vision.all import *\n",
    "from fastai.vision.widgets import *\n",
    "import random"
   ]
  },
  {
   "cell_type": "code",
   "execution_count": null,
   "metadata": {},
   "outputs": [],
   "source": [
    "learner = load_learner(\"model.pkl\",cpu=True)"
   ]
  },
  {
   "cell_type": "code",
   "execution_count": null,
   "metadata": {
    "id": "RbCHj8GevYG7"
   },
   "outputs": [],
   "source": [
    "widget = jd.CustomBox()"
   ]
  },
  {
   "cell_type": "code",
   "execution_count": null,
   "metadata": {},
   "outputs": [],
   "source": [
    "def toggle_menu(widget, event, data):\n",
    "    widget.open_ = not widget.open_"
   ]
  },
  {
   "cell_type": "code",
   "execution_count": null,
   "metadata": {},
   "outputs": [],
   "source": [
    "def split_df(df):\n",
    "    df_tmp = []\n",
    "    start=0\n",
    "    for j in np.where(df['time'].diff()>80)[0]:\n",
    "        df_tmp.append(df.loc[start:j-1,:])\n",
    "        start = j\n",
    "    df_tmp.append(df.loc[start:,:])\n",
    "    return df_tmp"
   ]
  },
  {
   "cell_type": "code",
   "execution_count": null,
   "metadata": {},
   "outputs": [],
   "source": [
    "def create_image(img_data):\n",
    "    xmin,xmax,ymin,ymax = np.min(img_data[0]),np.max(img_data[0]),np.min(img_data[1]),np.max(img_data[1])\n",
    "    df = pd.DataFrame.from_records(zip(*img_data),columns=['x','y','time'])\n",
    "    df_tmp = split_df(df)\n",
    "    fig, ax = plt.subplots(figsize=(1,1),dpi=256)\n",
    "    for stroke in df_tmp:\n",
    "        x = np.array(stroke.to_records(index=False).tolist())[:,0]\n",
    "        y = np.array(stroke.to_records(index=False).tolist())[:,1]\n",
    "        line = lines.Line2D(x,y,lw = 1, color ='k', \n",
    "                          axes = ax, alpha = 1)\n",
    "        ax.add_line(line)\n",
    "    ax.set_xlim(xmin-10,xmax+10)\n",
    "    ax.set_ylim(ymin-10,ymax+10)\n",
    "    ax.axis('off')\n",
    "    return fig"
   ]
  },
  {
   "cell_type": "code",
   "execution_count": null,
   "metadata": {},
   "outputs": [],
   "source": [
    "def toggle_modal(widget, event, data):\n",
    "    modal1.open_ = not modal1.open_"
   ]
  },
  {
   "cell_type": "code",
   "execution_count": null,
   "metadata": {
    "id": "5C92HE9zv8C9",
    "scrolled": true
   },
   "outputs": [],
   "source": [
    "def clear_draw(e, w, d):\n",
    "    widget.clean()\n",
    "def toggle_dia(widget, event, data):\n",
    "    dialogue_save.open_ = not dialogue_save.open_\n",
    "path = \"test.png\"\n",
    "#dialogue_save.on_event('onClose', toggle_dia)+\n",
    "title_tmp = ['Did you draw?',\"Is it a?\",\"Isn't it a?\"]\n",
    "dialogue_title = m.DialogTitle(children=\"did you draw?\")\n",
    "dialogue_content = m.DialogContent(children=['{}'.format(path)])\n",
    "dialogue_save = m.Dialog(open_=False,children=[dialogue_title,dialogue_content])\n",
    "dialogue_save.on_event('onClose',toggle_menu)\n",
    "def submit(e, w, d):\n",
    "    img_data = widget.drawing_pad.data\n",
    "    fig = create_image(img_data)\n",
    "    path = \"test.png\"\n",
    "    fig.savefig(path, bbox_inches='tight')\n",
    "    plt.close()\n",
    "    with open(path,'rb') as f:\n",
    "        doc = f.read()\n",
    "    img = PILImage.create(doc)\n",
    "    pred,pred_idx,probs = learner.predict(img)\n",
    "    dialogue_title= m.DialogTitle(children='{}'.format(random.choice(title_tmp)))\n",
    "    text = m.DialogContentText(children='{}'.format(str(pred).title()))\n",
    "    text.style_ = {\"font-weight\":\"bold\",'font-size':'200%','font-family':'Georgia'}\n",
    "    dialogue_content.children = text\n",
    "    dialogue_save.children = [dialogue_title,dialogue_content]\n",
    "    dialogue_save.open_ = not dialogue_save.open_\n",
    "button1 = m.Button(color='primary', variant='contained', children=[m.Icon(style_={'marginRight': '5px'}, children='clear'),'clear'])\n",
    "button2 = m.Button(color='primary', variant='contained', children=[m.Icon(style_={'marginRight': '5px'}, children='send'),'Submit'])\n",
    "button1.on_event('onClick', clear_draw)\n",
    "button2.on_event('onClick',submit)\n",
    "button2.full_width=True\n",
    "button1.full_width=True\n",
    "#button2_g = m.Grid(children=[button2,dialogue_save])\n",
    "button2_g = m.Grid(children=button2)\n",
    "button1_g = m.Grid(children=button1)\n",
    "submit_but = m.List(children=[\n",
    "    button2, dialogue_save,button1\n",
    "])"
   ]
  },
  {
   "cell_type": "code",
   "execution_count": null,
   "metadata": {},
   "outputs": [],
   "source": [
    "button2_g.item=True;button1_g.item=True;button2_g.xs=1;button1_g.xs=1\n",
    "dialogue_save.item=True"
   ]
  },
  {
   "cell_type": "code",
   "execution_count": null,
   "metadata": {},
   "outputs": [],
   "source": [
    "button1_g.item=True\n",
    "button2_g.item=True\n",
    "container_1_sub = m.Grid(children=[button2_g,dialogue_save,button1_g])"
   ]
  },
  {
   "cell_type": "code",
   "execution_count": null,
   "metadata": {},
   "outputs": [],
   "source": [
    "container_1_sub.spacing=4;container_1_sub.container=True\n",
    "container_1_sub.justify='center'"
   ]
  },
  {
   "cell_type": "code",
   "execution_count": null,
   "metadata": {},
   "outputs": [],
   "source": [
    "container_2 = m.Grid(children=widget.drawing_pad)"
   ]
  },
  {
   "cell_type": "code",
   "execution_count": null,
   "metadata": {},
   "outputs": [],
   "source": [
    "container_2.item=True;container_2.xs=16"
   ]
  },
  {
   "cell_type": "code",
   "execution_count": null,
   "metadata": {},
   "outputs": [],
   "source": [
    "container_total = m.Grid(children=[container_2,container_1_sub])"
   ]
  },
  {
   "cell_type": "code",
   "execution_count": null,
   "metadata": {},
   "outputs": [],
   "source": [
    "container_total.spacing=0"
   ]
  },
  {
   "cell_type": "code",
   "execution_count": null,
   "metadata": {},
   "outputs": [],
   "source": [
    "container_total.direction = 'column'\n",
    "container_total.align_content='center'\n",
    "container_total.container=True"
   ]
  },
  {
   "cell_type": "code",
   "execution_count": null,
   "metadata": {},
   "outputs": [],
   "source": [
    "container_total"
   ]
  },
  {
   "cell_type": "code",
   "execution_count": null,
   "metadata": {},
   "outputs": [],
   "source": [
    "def toggle_menu(widget, event, data):\n",
    "    widget.open_ = not widget.open_\n",
    "def toggle_ahead(widget,event,data):\n",
    "    dialogue.open_ = not dialogue.open_\n",
    "go_ahead = m.DialogActions(children=m.Button(color='primary', children=['Lets Go']))\n",
    "dialogue_title = m.DialogTitle(children=\"Pictionary App\")\n",
    "#dialogue_content = m.DialogContent(children=[\"Ever played pictionary and wondered if your friends are bad at identifying or you're bad at doodling.\",\n",
    "#       \"Wait no more go ahead and check if an\",m.Html(tag='p',children=['A.I'],style_={\"font-weight\":\"bold\"}) ,\"can get your doodle\",m.Html(tag='div',children=['{}'.format(\", \".join(['a','b']))],style_={\"font-weight\":\"bold\"})])\n",
    "dialogue_content = m.DialogContent(children=[\"Ever played pictionary and wondered if your friends are bad at identifying or you're bad at doodling. \\\n",
    "        Wait no more!!! Go ahead and check if an A.I an get your doodle.Currently supported doodles are {}\".format(\",\".join(learner.dls.vocab)) ])\n",
    "dialogue =m.Dialog(open_=True,children=[dialogue_title,dialogue_content,go_ahead])\n",
    "go_ahead.on_event('onClick',toggle_ahead)\n",
    "dialogue.on_event('onClose',toggle_menu)\n",
    "dialogue"
   ]
  },
  {
   "cell_type": "code",
   "execution_count": null,
   "metadata": {},
   "outputs": [],
   "source": [
    "sb = m.Snackbar(open_=True, message=m.Html(tag='div',children=['Made with ❤️'],style_={'position': 'relative', 'left': '100%','right': '100%'}, ))\n",
    "sb.auto_hide_duration=10000\n",
    "sb.anchor_origin={ \"vertical\": 'bottom', \"horizontal\": 'center' }\n",
    "sb.on_event('onClose',toggle_menu)\n",
    "sb"
   ]
  }
 ],
 "metadata": {
  "colab": {
   "collapsed_sections": [],
   "name": "drawpad.ipynb",
   "provenance": []
  },
  "kernelspec": {
   "display_name": "Python 3 (ipykernel)",
   "language": "python",
   "name": "python3"
  },
  "language_info": {
   "codemirror_mode": {
    "name": "ipython",
    "version": 3
   },
   "file_extension": ".py",
   "mimetype": "text/x-python",
   "name": "python",
   "nbconvert_exporter": "python",
   "pygments_lexer": "ipython3",
   "version": "3.7.12"
  }
 },
 "nbformat": 4,
 "nbformat_minor": 1
}
