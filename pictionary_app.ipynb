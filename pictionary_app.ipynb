{
  "nbformat": 4,
  "nbformat_minor": 0,
  "metadata": {
    "colab": {
      "name": "pictionary_app.ipynb",
      "provenance": [],
      "collapsed_sections": []
    },
    "kernelspec": {
      "name": "python3",
      "display_name": "Python 3"
    },
    "widgets": {
      "application/vnd.jupyter.widget-state+json": {
        "9790ca5ddb5340dead563eac5cf98c8d": {
          "model_module": "@jupyter-widgets/controls",
          "model_name": "VBoxModel",
          "state": {
            "_view_name": "VBoxView",
            "_dom_classes": [],
            "_model_name": "VBoxModel",
            "_view_module": "@jupyter-widgets/controls",
            "_model_module_version": "1.5.0",
            "_view_count": null,
            "_view_module_version": "1.5.0",
            "box_style": "",
            "layout": "IPY_MODEL_ce90e4051abf45e3bbaa38a6565fdb14",
            "_model_module": "@jupyter-widgets/controls",
            "children": [
              "IPY_MODEL_15853c6d2477445dbcb728f746edb510",
              "IPY_MODEL_34c412d052d5499cb8a3cb45d5f18a50",
              "IPY_MODEL_8333a182e4d44dbc82dd756917b1c4d2",
              "IPY_MODEL_a036537c107e4adf8b6008540ba8a9e7",
              "IPY_MODEL_642a57bfebe840818687b3c8ecc22fdb"
            ]
          }
        },
        "ce90e4051abf45e3bbaa38a6565fdb14": {
          "model_module": "@jupyter-widgets/base",
          "model_name": "LayoutModel",
          "state": {
            "_view_name": "LayoutView",
            "grid_template_rows": null,
            "right": null,
            "justify_content": null,
            "_view_module": "@jupyter-widgets/base",
            "overflow": null,
            "_model_module_version": "1.2.0",
            "_view_count": null,
            "flex_flow": null,
            "width": null,
            "min_width": null,
            "border": null,
            "align_items": null,
            "bottom": null,
            "_model_module": "@jupyter-widgets/base",
            "top": null,
            "grid_column": null,
            "overflow_y": null,
            "overflow_x": null,
            "grid_auto_flow": null,
            "grid_area": null,
            "grid_template_columns": null,
            "flex": null,
            "_model_name": "LayoutModel",
            "justify_items": null,
            "grid_row": null,
            "max_height": null,
            "align_content": null,
            "visibility": null,
            "align_self": null,
            "height": null,
            "min_height": null,
            "padding": null,
            "grid_auto_rows": null,
            "grid_gap": null,
            "max_width": null,
            "order": null,
            "_view_module_version": "1.2.0",
            "grid_template_areas": null,
            "object_position": null,
            "object_fit": null,
            "grid_auto_columns": null,
            "margin": null,
            "display": null,
            "left": null
          }
        },
        "15853c6d2477445dbcb728f746edb510": {
          "model_module": "@jupyter-widgets/controls",
          "model_name": "LabelModel",
          "state": {
            "_view_name": "LabelView",
            "style": "IPY_MODEL_1ba41e3299d04563b24abb0b0ccd33c0",
            "_dom_classes": [],
            "description": "",
            "_model_name": "LabelModel",
            "placeholder": "​",
            "_view_module": "@jupyter-widgets/controls",
            "_model_module_version": "1.5.0",
            "value": "Select your bear!",
            "_view_count": null,
            "_view_module_version": "1.5.0",
            "description_tooltip": null,
            "_model_module": "@jupyter-widgets/controls",
            "layout": "IPY_MODEL_278d29c9a6224b8b913702fe039ae029"
          }
        },
        "34c412d052d5499cb8a3cb45d5f18a50": {
          "model_module": "@jupyter-widgets/controls",
          "model_name": "FileUploadModel",
          "state": {
            "_view_name": "FileUploadView",
            "_counter": 1,
            "style": "IPY_MODEL_83383f3bbb954fcab38b93306e9f8ccf",
            "_dom_classes": [],
            "description": "Upload",
            "multiple": false,
            "_model_name": "FileUploadModel",
            "data": [
              null
            ],
            "button_style": "",
            "_view_module": "@jupyter-widgets/controls",
            "_model_module_version": "1.5.0",
            "accept": "",
            "_view_count": null,
            "disabled": false,
            "_view_module_version": "1.5.0",
            "error": "",
            "description_tooltip": null,
            "metadata": [
              {
                "name": "cup.png",
                "type": "image/png",
                "size": 7001,
                "lastModified": 1601231257182
              }
            ],
            "_model_module": "@jupyter-widgets/controls",
            "layout": "IPY_MODEL_650ffd00a8464a658b648b66d01b425f",
            "icon": "upload"
          }
        },
        "8333a182e4d44dbc82dd756917b1c4d2": {
          "model_module": "@jupyter-widgets/controls",
          "model_name": "ButtonModel",
          "state": {
            "_view_name": "ButtonView",
            "style": "IPY_MODEL_c5de590077d04b1aac4c3693fa0865b4",
            "_dom_classes": [],
            "description": "Guess IT!!!",
            "_model_name": "ButtonModel",
            "button_style": "",
            "_view_module": "@jupyter-widgets/controls",
            "_model_module_version": "1.5.0",
            "tooltip": "",
            "_view_count": null,
            "disabled": false,
            "_view_module_version": "1.5.0",
            "layout": "IPY_MODEL_329b2d1c179149e99c5e639dc06b4caa",
            "_model_module": "@jupyter-widgets/controls",
            "icon": ""
          }
        },
        "a036537c107e4adf8b6008540ba8a9e7": {
          "model_module": "@jupyter-widgets/output",
          "model_name": "OutputModel",
          "state": {
            "_view_name": "OutputView",
            "msg_id": "",
            "_dom_classes": [],
            "_model_name": "OutputModel",
            "outputs": [
              {
                "output_type": "display_data",
                "metadata": {
                  "tags": []
                },
                "image/png": "iVBORw0KGgoAAAANSUhEUgAAAFsAAACACAIAAADrrYIiAAAFBElEQVR4nO3czy8rXRjA8TlzzoyZDvVrU1TpDWlLImFnIyFELMSO/8hfIhJhgZVFQ8OKxEaEErTCopqUjmpVOz/uYhKR577uS6dncPN8VtLy9PRLO9POFLFtW0BviF+9gG8Hi0BYBMIiEBaBsAiERSAsAmERCItAWATCIhAWgbAIhEUgLAJhEQiLQFgEwiIQFoGwCIRFICwCYREIi0BYBMIiEBaBsAiERSAsAmERCItAWATCIhAWgbAIhEUgLAJhEQiLQFgEwiIQFoGwCIRFIMZvtK7rj4+Ptm0zxmRZlmXZsizDMAzDME2TMebz+TRNE8Xv9VvhUuTi4iKRSLS1tTl32DTNSqVSrVZFUaSUMsZEUTQMo1wum6apaVogEAiHw+3t7TwW81nEzWewqtXqwcHB/f09pZQQYllWKBSKxWLxeJxSOjU19b8TKpVKLpe7vb29vr42TbO3tzcSibS0tNS8JPdcFdnd3bVtOxaLmaYpCIJt22dnZ3d3d7quBwKBubm5T03L5/Pn5+epVEqSpEgk0t/fL8tyzWurmasiOzs7wWCwv7//7YXlcjmRSCwvLy8uLgaDwRrGnp6erq2t+Xy+iYmJ4eHhmpdXG1dFstlsIpGYn58HlxuGsbS0pKpqe3v74OBgW1ubLMuEkL+Msiwrn8+fnJzc3NyoqhqNRkOh0M7ODmNsenq65hXWwFURQRDi8bgsy2NjY28vNAxjY2Njbm4umUxeXV29vLwIgmDb9nu3RQhxNknhcDgajfp8vter1tfXR0ZGQqGQm0V+itsitm1vbW09Pz+Pjo4GAoHXP4TV1dXZ2VlFUZzvMQzDsqz3ohBCKKWSJP15VTKZzGazoDhXbre+hJCZmZlUKrW/v//y8tLQ0MAYm5ycpJRWq1WnCCHkP+/tRzQ2NqbTaZeL/JT67I+Ew+FwOFypVIrFommasiwrivL09NTU1ORysrNRr8siP6iee2jOjqnzdUtLSy6X6+jocDlTFEWPP7XOaw+6tbX14eGB03CueBVpbm5+enriNJwrXkVUVXU2uj8OryKMMWfX/sfhVUSSJMMwOA3nilcRSukP/c8mvIqIoiiKose7EnXBqwghxPudq7rgVeSHPmQEro8aQshPfHLl+KhhjBWLRZdzTNOklNZlSR/E8X1wv9+fz+ddDjEMgzGOBwz+xLGIz+crlUru5/z9zbe641iEUup+t5VS6vGTEccimqa5f7FXl6yfwrFIZ2dnJpNxOUSSpH+niHMgyuWficdPIgLvI+Gqqros4v0LaL5FNE0rFApuJti2/e9sawRB6OvrOzw8dPPWkWVZHp88wPfGgsHgwMDAysrK3t7e4+NjDRNKpZJziMMzbo9gfUSlUjk+Pk4mk01NTUNDQz09PR//2e3t7a6urkgkwm95gBdFXqVSqaOjo1Kp1NvbGwwGGxsbFUVpaGh473Gh6/rm5ubCwoKXJwl4WsRRKBQuLy8zmUy5XHZOOSKEKIqiaZrf7/f7/ZRS57ySdDo9Pj7e3d3t5fK+oAhgWVa1Wi0Wi7qu67ruHBVkjDU3N//69UtVVY/X8/VFvpvvdVbcd4BFICwCYREIi0BYBMIiEBaBsAiERSAsAmERCItAWATCIhAWgbAIhEUgLAJhEQiLQFgEwiIQFoGwCIRFICwCYREIi0BYBMIiEBaBsAiERSAsAmERCItAWATCIhAWgbAIhEUgLAL9BpfHzEQCh2MVAAAAAElFTkSuQmCC\n",
                "text/plain": "<PIL.Image.Image image mode=RGB size=91x128 at 0x7F6AF92CE828>"
              }
            ],
            "_view_module": "@jupyter-widgets/output",
            "_model_module_version": "1.0.0",
            "_view_count": null,
            "_view_module_version": "1.0.0",
            "layout": "IPY_MODEL_6947737fb0224b4ea201c0738bf977ba",
            "_model_module": "@jupyter-widgets/output"
          }
        },
        "642a57bfebe840818687b3c8ecc22fdb": {
          "model_module": "@jupyter-widgets/controls",
          "model_name": "LabelModel",
          "state": {
            "_view_name": "LabelView",
            "style": "IPY_MODEL_e9915f8665514363b44240785d67d1cb",
            "_dom_classes": [],
            "description": "",
            "_model_name": "LabelModel",
            "placeholder": "​",
            "_view_module": "@jupyter-widgets/controls",
            "_model_module_version": "1.5.0",
            "value": "Cup it is, I bet you 99.76 ;)",
            "_view_count": null,
            "_view_module_version": "1.5.0",
            "description_tooltip": null,
            "_model_module": "@jupyter-widgets/controls",
            "layout": "IPY_MODEL_6f97f559873c4dcba93ad0f2764c708a"
          }
        },
        "1ba41e3299d04563b24abb0b0ccd33c0": {
          "model_module": "@jupyter-widgets/controls",
          "model_name": "DescriptionStyleModel",
          "state": {
            "_view_name": "StyleView",
            "_model_name": "DescriptionStyleModel",
            "description_width": "",
            "_view_module": "@jupyter-widgets/base",
            "_model_module_version": "1.5.0",
            "_view_count": null,
            "_view_module_version": "1.2.0",
            "_model_module": "@jupyter-widgets/controls"
          }
        },
        "278d29c9a6224b8b913702fe039ae029": {
          "model_module": "@jupyter-widgets/base",
          "model_name": "LayoutModel",
          "state": {
            "_view_name": "LayoutView",
            "grid_template_rows": null,
            "right": null,
            "justify_content": null,
            "_view_module": "@jupyter-widgets/base",
            "overflow": null,
            "_model_module_version": "1.2.0",
            "_view_count": null,
            "flex_flow": null,
            "width": null,
            "min_width": null,
            "border": null,
            "align_items": null,
            "bottom": null,
            "_model_module": "@jupyter-widgets/base",
            "top": null,
            "grid_column": null,
            "overflow_y": null,
            "overflow_x": null,
            "grid_auto_flow": null,
            "grid_area": null,
            "grid_template_columns": null,
            "flex": null,
            "_model_name": "LayoutModel",
            "justify_items": null,
            "grid_row": null,
            "max_height": null,
            "align_content": null,
            "visibility": null,
            "align_self": null,
            "height": null,
            "min_height": null,
            "padding": null,
            "grid_auto_rows": null,
            "grid_gap": null,
            "max_width": null,
            "order": null,
            "_view_module_version": "1.2.0",
            "grid_template_areas": null,
            "object_position": null,
            "object_fit": null,
            "grid_auto_columns": null,
            "margin": null,
            "display": null,
            "left": null
          }
        },
        "83383f3bbb954fcab38b93306e9f8ccf": {
          "model_module": "@jupyter-widgets/controls",
          "model_name": "ButtonStyleModel",
          "state": {
            "_view_name": "StyleView",
            "_model_name": "ButtonStyleModel",
            "_view_module": "@jupyter-widgets/base",
            "_model_module_version": "1.5.0",
            "_view_count": null,
            "button_color": null,
            "font_weight": "",
            "_view_module_version": "1.2.0",
            "_model_module": "@jupyter-widgets/controls"
          }
        },
        "650ffd00a8464a658b648b66d01b425f": {
          "model_module": "@jupyter-widgets/base",
          "model_name": "LayoutModel",
          "state": {
            "_view_name": "LayoutView",
            "grid_template_rows": null,
            "right": null,
            "justify_content": null,
            "_view_module": "@jupyter-widgets/base",
            "overflow": null,
            "_model_module_version": "1.2.0",
            "_view_count": null,
            "flex_flow": null,
            "width": null,
            "min_width": null,
            "border": null,
            "align_items": null,
            "bottom": null,
            "_model_module": "@jupyter-widgets/base",
            "top": null,
            "grid_column": null,
            "overflow_y": null,
            "overflow_x": null,
            "grid_auto_flow": null,
            "grid_area": null,
            "grid_template_columns": null,
            "flex": null,
            "_model_name": "LayoutModel",
            "justify_items": null,
            "grid_row": null,
            "max_height": null,
            "align_content": null,
            "visibility": null,
            "align_self": null,
            "height": null,
            "min_height": null,
            "padding": null,
            "grid_auto_rows": null,
            "grid_gap": null,
            "max_width": null,
            "order": null,
            "_view_module_version": "1.2.0",
            "grid_template_areas": null,
            "object_position": null,
            "object_fit": null,
            "grid_auto_columns": null,
            "margin": null,
            "display": null,
            "left": null
          }
        },
        "c5de590077d04b1aac4c3693fa0865b4": {
          "model_module": "@jupyter-widgets/controls",
          "model_name": "ButtonStyleModel",
          "state": {
            "_view_name": "StyleView",
            "_model_name": "ButtonStyleModel",
            "_view_module": "@jupyter-widgets/base",
            "_model_module_version": "1.5.0",
            "_view_count": null,
            "button_color": null,
            "font_weight": "",
            "_view_module_version": "1.2.0",
            "_model_module": "@jupyter-widgets/controls"
          }
        },
        "329b2d1c179149e99c5e639dc06b4caa": {
          "model_module": "@jupyter-widgets/base",
          "model_name": "LayoutModel",
          "state": {
            "_view_name": "LayoutView",
            "grid_template_rows": null,
            "right": null,
            "justify_content": null,
            "_view_module": "@jupyter-widgets/base",
            "overflow": null,
            "_model_module_version": "1.2.0",
            "_view_count": null,
            "flex_flow": null,
            "width": null,
            "min_width": null,
            "border": null,
            "align_items": null,
            "bottom": null,
            "_model_module": "@jupyter-widgets/base",
            "top": null,
            "grid_column": null,
            "overflow_y": null,
            "overflow_x": null,
            "grid_auto_flow": null,
            "grid_area": null,
            "grid_template_columns": null,
            "flex": null,
            "_model_name": "LayoutModel",
            "justify_items": null,
            "grid_row": null,
            "max_height": null,
            "align_content": null,
            "visibility": null,
            "align_self": null,
            "height": null,
            "min_height": null,
            "padding": null,
            "grid_auto_rows": null,
            "grid_gap": null,
            "max_width": null,
            "order": null,
            "_view_module_version": "1.2.0",
            "grid_template_areas": null,
            "object_position": null,
            "object_fit": null,
            "grid_auto_columns": null,
            "margin": null,
            "display": null,
            "left": null
          }
        },
        "e9915f8665514363b44240785d67d1cb": {
          "model_module": "@jupyter-widgets/controls",
          "model_name": "DescriptionStyleModel",
          "state": {
            "_view_name": "StyleView",
            "_model_name": "DescriptionStyleModel",
            "description_width": "",
            "_view_module": "@jupyter-widgets/base",
            "_model_module_version": "1.5.0",
            "_view_count": null,
            "_view_module_version": "1.2.0",
            "_model_module": "@jupyter-widgets/controls"
          }
        },
        "6f97f559873c4dcba93ad0f2764c708a": {
          "model_module": "@jupyter-widgets/base",
          "model_name": "LayoutModel",
          "state": {
            "_view_name": "LayoutView",
            "grid_template_rows": null,
            "right": null,
            "justify_content": null,
            "_view_module": "@jupyter-widgets/base",
            "overflow": null,
            "_model_module_version": "1.2.0",
            "_view_count": null,
            "flex_flow": null,
            "width": null,
            "min_width": null,
            "border": null,
            "align_items": null,
            "bottom": null,
            "_model_module": "@jupyter-widgets/base",
            "top": null,
            "grid_column": null,
            "overflow_y": null,
            "overflow_x": null,
            "grid_auto_flow": null,
            "grid_area": null,
            "grid_template_columns": null,
            "flex": null,
            "_model_name": "LayoutModel",
            "justify_items": null,
            "grid_row": null,
            "max_height": null,
            "align_content": null,
            "visibility": null,
            "align_self": null,
            "height": null,
            "min_height": null,
            "padding": null,
            "grid_auto_rows": null,
            "grid_gap": null,
            "max_width": null,
            "order": null,
            "_view_module_version": "1.2.0",
            "grid_template_areas": null,
            "object_position": null,
            "object_fit": null,
            "grid_auto_columns": null,
            "margin": null,
            "display": null,
            "left": null
          }
        },
        "6947737fb0224b4ea201c0738bf977ba": {
          "model_module": "@jupyter-widgets/base",
          "model_name": "LayoutModel",
          "state": {
            "_view_name": "LayoutView",
            "grid_template_rows": null,
            "right": null,
            "justify_content": null,
            "_view_module": "@jupyter-widgets/base",
            "overflow": null,
            "_model_module_version": "1.2.0",
            "_view_count": null,
            "flex_flow": null,
            "width": null,
            "min_width": null,
            "border": null,
            "align_items": null,
            "bottom": null,
            "_model_module": "@jupyter-widgets/base",
            "top": null,
            "grid_column": null,
            "overflow_y": null,
            "overflow_x": null,
            "grid_auto_flow": null,
            "grid_area": null,
            "grid_template_columns": null,
            "flex": null,
            "_model_name": "LayoutModel",
            "justify_items": null,
            "grid_row": null,
            "max_height": null,
            "align_content": null,
            "visibility": null,
            "align_self": null,
            "height": null,
            "min_height": null,
            "padding": null,
            "grid_auto_rows": null,
            "grid_gap": null,
            "max_width": null,
            "order": null,
            "_view_module_version": "1.2.0",
            "grid_template_areas": null,
            "object_position": null,
            "object_fit": null,
            "grid_auto_columns": null,
            "margin": null,
            "display": null,
            "left": null
          }
        }
      }
    }
  },
  "cells": [
    {
      "cell_type": "code",
      "metadata": {
        "id": "oEYPCoNPwg0S"
      },
      "source": [
        "#hide\n",
        "from fastbook import *\n",
        "from fastai.vision.widgets import *"
      ],
      "execution_count": 4,
      "outputs": []
    },
    {
      "cell_type": "code",
      "metadata": {
        "id": "GYAQyT6R9RQA"
      },
      "source": [
        "path = Path()#.ls()"
      ],
      "execution_count": 5,
      "outputs": []
    },
    {
      "cell_type": "code",
      "metadata": {
        "id": "0k1H3c2m-_aK"
      },
      "source": [
        "learner = load_learner(path/\"model.pkl\",cpu=True)"
      ],
      "execution_count": 6,
      "outputs": []
    },
    {
      "cell_type": "code",
      "metadata": {
        "id": "l5pzh1QKw0pB"
      },
      "source": [
        "#hide_output\n",
        "btn_upload = widgets.FileUpload()\n",
        "#btn_upload"
      ],
      "execution_count": 7,
      "outputs": []
    },
    {
      "cell_type": "code",
      "metadata": {
        "id": "9DrKHwVzyEFC"
      },
      "source": [
        "#hide_output\n",
        "out_pl = widgets.Output()\n",
        "out_pl.clear_output()\n"
      ],
      "execution_count": 8,
      "outputs": []
    },
    {
      "cell_type": "code",
      "metadata": {
        "id": "2PN_G4JKyKhV"
      },
      "source": [
        "# pred,pred_idx,probs = learner.predict(img)"
      ],
      "execution_count": 11,
      "outputs": []
    },
    {
      "cell_type": "code",
      "metadata": {
        "id": "5o9iSoynyj43"
      },
      "source": [
        "#hide_output\n",
        "lbl_pred = widgets.Label()\n"
      ],
      "execution_count": 12,
      "outputs": []
    },
    {
      "cell_type": "code",
      "metadata": {
        "id": "iJWCFoxBycCT"
      },
      "source": [
        "#hide_output\n",
        "btn_run = widgets.Button(description='Guess IT!!!')\n"
      ],
      "execution_count": 14,
      "outputs": []
    },
    {
      "cell_type": "code",
      "metadata": {
        "id": "g8QSCNJBzgDL"
      },
      "source": [
        "def on_click_classify(change):\n",
        "    img = PILImage.create(btn_upload.data[-1])\n",
        "    out_pl.clear_output()\n",
        "    with out_pl: display(img.to_thumb(256,256))\n",
        "    pred,pred_idx,probs = learner.predict(img)\n",
        "    lbl_pred.value = f\"{pred.title()} it is, I bet you {probs[pred_idx]*100:.02f} ;)\"\n",
        "\n",
        "btn_run.on_click(on_click_classify)"
      ],
      "execution_count": 15,
      "outputs": []
    },
    {
      "cell_type": "code",
      "metadata": {
        "id": "sKAivO9kzm5b"
      },
      "source": [
        "#hide\n",
        "#Putting back btn_upload to a widget for next cell\n",
        "btn_upload = widgets.FileUpload()"
      ],
      "execution_count": 16,
      "outputs": []
    },
    {
      "cell_type": "code",
      "metadata": {
        "id": "GJorkPf70PJz",
        "outputId": "8f10902e-9d69-4c3b-a5b9-2fea91a74ccd",
        "colab": {
          "base_uri": "https://localhost:8080/",
          "height": 273,
          "referenced_widgets": [
            "9790ca5ddb5340dead563eac5cf98c8d",
            "ce90e4051abf45e3bbaa38a6565fdb14",
            "15853c6d2477445dbcb728f746edb510",
            "34c412d052d5499cb8a3cb45d5f18a50",
            "8333a182e4d44dbc82dd756917b1c4d2",
            "a036537c107e4adf8b6008540ba8a9e7",
            "642a57bfebe840818687b3c8ecc22fdb",
            "1ba41e3299d04563b24abb0b0ccd33c0",
            "278d29c9a6224b8b913702fe039ae029",
            "83383f3bbb954fcab38b93306e9f8ccf",
            "650ffd00a8464a658b648b66d01b425f",
            "c5de590077d04b1aac4c3693fa0865b4",
            "329b2d1c179149e99c5e639dc06b4caa",
            "e9915f8665514363b44240785d67d1cb",
            "6f97f559873c4dcba93ad0f2764c708a",
            "6947737fb0224b4ea201c0738bf977ba"
          ]
        }
      },
      "source": [
        "#hide_output\n",
        "VBox([widgets.Label('Select your bear!'), \n",
        "      btn_upload, btn_run, out_pl, lbl_pred])"
      ],
      "execution_count": 17,
      "outputs": [
        {
          "output_type": "display_data",
          "data": {
            "application/vnd.jupyter.widget-view+json": {
              "model_id": "9790ca5ddb5340dead563eac5cf98c8d",
              "version_minor": 0,
              "version_major": 2
            },
            "text/plain": [
              "VBox(children=(Label(value='Select your bear!'), FileUpload(value={}, description='Upload'), Button(descriptio…"
            ]
          },
          "metadata": {
            "tags": []
          }
        },
        {
          "output_type": "display_data",
          "data": {
            "text/html": [
              ""
            ],
            "text/plain": [
              "<IPython.core.display.HTML object>"
            ]
          },
          "metadata": {
            "tags": []
          }
        }
      ]
    },
    {
      "cell_type": "code",
      "metadata": {
        "id": "TEj2jAQc6lF8"
      },
      "source": [
        ""
      ],
      "execution_count": null,
      "outputs": []
    }
  ]
}