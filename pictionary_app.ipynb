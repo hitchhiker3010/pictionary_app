{
  "nbformat": 4,
  "nbformat_minor": 0,
  "metadata": {
    "colab": {
      "name": "pictionary_app.ipynb",
      "provenance": [],
      "collapsed_sections": []
    },
    "kernelspec": {
      "name": "python3",
      "display_name": "Python 3"
    }
  },
  "cells": [
    {
      "cell_type": "code",
      "metadata": {
        "id": "oEYPCoNPwg0S"
      },
      "source": [
        "from fastai.vision.all import *\n",
        "from fastai.vision.widgets import *"
      ],
      "execution_count": 3,
      "outputs": []
    },
    {
      "cell_type": "code",
      "metadata": {
        "id": "0k1H3c2m-_aK"
      },
      "source": [
        "learner = load_learner(\"model.pkl\",cpu=True)"
      ],
      "execution_count": null,
      "outputs": []
    },
    {
      "cell_type": "code",
      "metadata": {
        "id": "l5pzh1QKw0pB"
      },
      "source": [
        "btn_upload = widgets.FileUpload()"
      ],
      "execution_count": 5,
      "outputs": []
    },
    {
      "cell_type": "code",
      "metadata": {
        "id": "9DrKHwVzyEFC"
      },
      "source": [
        "out_pl = widgets.Output()\n",
        "out_pl.clear_output()"
      ],
      "execution_count": 6,
      "outputs": []
    },
    {
      "cell_type": "code",
      "metadata": {
        "id": "5o9iSoynyj43"
      },
      "source": [
        "lbl_pred = widgets.Label()\n"
      ],
      "execution_count": 8,
      "outputs": []
    },
    {
      "cell_type": "code",
      "metadata": {
        "id": "iJWCFoxBycCT"
      },
      "source": [
        "btn_run = widgets.Button(description='Guess IT!!!')\n"
      ],
      "execution_count": 9,
      "outputs": []
    },
    {
      "cell_type": "code",
      "metadata": {
        "id": "g8QSCNJBzgDL"
      },
      "source": [
        "def on_click_classify(change):\n",
        "    img = PILImage.create(btn_upload.data[-1])\n",
        "    out_pl.clear_output()\n",
        "    with out_pl: display(img.to_thumb(256,256))\n",
        "    pred,pred_idx,probs = learner.predict(img)\n",
        "    lbl_pred.value = f\"{pred.title()} it is, I bet you {probs[pred_idx]*100:.02f} ;)\"\n",
        "\n",
        "btn_run.on_click(on_click_classify)"
      ],
      "execution_count": 15,
      "outputs": []
    },
    {
      "cell_type": "code",
      "metadata": {
        "id": "sKAivO9kzm5b"
      },
      "source": [
        "btn_upload = widgets.FileUpload()"
      ],
      "execution_count": 16,
      "outputs": []
    },
    {
      "cell_type": "code",
      "metadata": {
        "id": "GJorkPf70PJz"
      },
      "source": [
        "VBox([widgets.Label('Select your Doodle Image!(Any doodle of bird,cup,dog,face,fish)'), \n",
        "      btn_upload, btn_run, out_pl, lbl_pred])"
      ],
      "execution_count": null,
      "outputs": []
    }
  ]
}